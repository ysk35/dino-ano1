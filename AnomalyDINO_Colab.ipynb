{
  "cells": [
    {
      "cell_type": "markdown",
      "metadata": {
        "id": "anomalydino-title"
      },
      "source": [
        "# AnomalyDINO: Google Colab実行用ノートブック\n",
        "\n",
        "このノートブックでは、AnomalyDINOをGoogle Colab（A100等）で実行できます。\n",
        "\n",
        "## 前提条件\n",
        "1. MVTec-ADデータセットをGoogle Driveにアップロード済み\n",
        "2. Colab Pro/Pro+でA100を選択（推奨）\n",
        "\n",
        "## セットアップ手順\n",
        "1. ランタイム → ランタイムタイプを変更 → GPU（A100推奨）\n",
        "2. 以下のセルを順番に実行"
      ]
    },
    {
      "cell_type": "markdown",
      "metadata": {
        "id": "step1"
      },
      "source": [
        "## Step 1: リポジトリのクローンと環境構築"
      ]
    },
    {
      "cell_type": "code",
      "execution_count": null,
      "metadata": {
        "id": "clone-repo"
      },
      "outputs": [],
      "source": [
        "# GitHubリポジトリをクローン\n",
        "!git clone https://github.com/YOUR_USERNAME/AnomalyDINO-Colab.git\n",
        "%cd AnomalyDINO-Colab\n",
        "\n",
        "# 依存関係をインストール\n",
        "!pip install -r requirements.txt\n",
        "\n",
        "# GPU確認\n",
        "!nvidia-smi"
      ]
    },
    {
      "cell_type": "markdown",
      "metadata": {
        "id": "step2"
      },
      "source": [
        "## Step 2: Google Driveマウントとデータセット設定"
      ]
    },
    {
      "cell_type": "code",
      "execution_count": null,
      "metadata": {
        "id": "mount-drive"
      },
      "outputs": [],
      "source": [
        "from google.colab import drive\n",
        "import os\n",
        "\n",
        "# Google Driveをマウント\n",
        "drive.mount('/content/drive')\n",
        "\n",
        "# 利用可能なファイルを確認\n",
        "!ls /content/drive/MyDrive/"
      ]
    },
    {
      "cell_type": "code",
      "execution_count": null,
      "metadata": {
        "id": "setup-dataset"
      },
      "outputs": [],
      "source": [
        "# MVTec-ADデータセットのパスを指定（実際のパスに変更してください）\n",
        "drive_data_path = \"/content/drive/MyDrive/mvtec_anomaly_detection.zip\"  # ZIPファイルの場合\n",
        "# drive_data_path = \"/content/drive/MyDrive/mvtec_anomaly_detection\"  # フォルダの場合\n",
        "\n",
        "# セットアップスクリプトを実行\n",
        "from colab_setup import setup_colab_environment, download_mvtec_from_drive\n",
        "\n",
        "# 環境セットアップ\n",
        "setup_colab_environment()\n",
        "\n",
        "# データセットダウンロード\n",
        "download_mvtec_from_drive(drive_data_path)"
      ]
    },
    {
      "cell_type": "markdown",
      "metadata": {
        "id": "step3"
      },
      "source": [
        "## Step 3: 異常検知実行\n",
        "\n",
        "### オプション1: 1-shot（論文再現、高速テスト）"
      ]
    },
    {
      "cell_type": "code",
      "execution_count": null,
      "metadata": {
        "id": "run-1shot"
      },
      "outputs": [],
      "source": [
        "# 1-shot、1シードでクイックテスト（約30分）\n",
        "!python run_anomalydino.py \\\n",
        "    --dataset MVTec \\\n",
        "    --data_root data/mvtec_anomaly_detection \\\n",
        "    --model_name dinov2_vitb14 \\\n",
        "    --resolution 448 \\\n",
        "    --shots 1 \\\n",
        "    --num_seeds 1 \\\n",
        "    --preprocess informed \\\n",
        "    --device cuda:0"
      ]
    },
    {
      "cell_type": "markdown",
      "metadata": {
        "id": "option2"
      },
      "source": [
        "### オプション2: 論文完全再現（3シード）"
      ]
    },
    {
      "cell_type": "code",
      "execution_count": null,
      "metadata": {
        "id": "run-full"
      },
      "outputs": [],
      "source": [
        "# 1-shot、3シードで論文再現（約2-3時間）\n",
        "!python run_anomalydino.py \\\n",
        "    --dataset MVTec \\\n",
        "    --data_root data/mvtec_anomaly_detection \\\n",
        "    --model_name dinov2_vitb14 \\\n",
        "    --resolution 448 \\\n",
        "    --shots 1 \\\n",
        "    --num_seeds 3 \\\n",
        "    --preprocess informed \\\n",
        "    --device cuda:0"
      ]
    },
    {
      "cell_type": "markdown",
      "metadata": {
        "id": "results"
      },
      "source": [
        "## Step 4: 結果確認"
      ]
    },
    {
      "cell_type": "code",
      "execution_count": null,
      "metadata": {
        "id": "check-results"
      },
      "outputs": [],
      "source": [
        "# 結果ファイルを表示\n",
        "import json\n",
        "import glob\n",
        "\n",
        "# メトリクスファイルを検索\n",
        "result_files = glob.glob(\"results*/metrics_seed=*.json\")\n",
        "print(f\"結果ファイル数: {len(result_files)}\")\n",
        "\n",
        "# 各シードの結果を表示\n",
        "for file in result_files:\n",
        "    print(f\"\\n=== {file} ===\")\n",
        "    with open(file, 'r') as f:\n",
        "        metrics = json.load(f)\n",
        "        if 'mean_classification_au_roc' in metrics:\n",
        "            auroc = metrics['mean_classification_au_roc'] * 100\n",
        "            print(f\"Mean AUROC: {auroc:.2f}%\")\n",
        "\n",
        "# 結果フォルダの内容を確認\n",
        "!ls -la results*/"
      ]
    },
    {
      "cell_type": "markdown",
      "metadata": {
        "id": "download-results"
      },
      "source": [
        "## Step 5: 結果のダウンロード"
      ]
    },
    {
      "cell_type": "code",
      "execution_count": null,
      "metadata": {
        "id": "zip-results"
      },
      "outputs": [],
      "source": [
        "# 結果をZIPファイルにまとめてダウンロード\n",
        "!zip -r anomalydino_results.zip results*/\n",
        "\n",
        "from google.colab import files\n",
        "files.download('anomalydino_results.zip')\n",
        "\n",
        "print(\"✅ 結果のダウンロード完了\")\n",
        "print(\"期待結果: 1-shot AUROC 96.6% ± 数%\")"
      ]
    }
  ],
  "metadata": {
    "accelerator": "GPU",
    "colab": {
      "gpuType": "A100",
      "provenance": []
    },
    "kernelspec": {
      "display_name": "Python 3",
      "name": "python3"
    },
    "language_info": {
      "name": "python"
    }
  },
  "nbformat": 4,
  "nbformat_minor": 0
}